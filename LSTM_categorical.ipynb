{
 "cells": [
  {
   "cell_type": "code",
   "execution_count": 2,
   "metadata": {},
   "outputs": [
    {
     "name": "stderr",
     "output_type": "stream",
     "text": [
      "C:\\ProgramData\\Anaconda3\\lib\\site-packages\\h5py\\__init__.py:34: FutureWarning: Conversion of the second argument of issubdtype from `float` to `np.floating` is deprecated. In future, it will be treated as `np.float64 == np.dtype(float).type`.\n",
      "  from ._conv import register_converters as _register_converters\n",
      "Using TensorFlow backend.\n"
     ]
    }
   ],
   "source": [
    "import tensorflow as tf\n",
    "from keras.models import Sequential\n",
    "from keras.layers import Dense, Dropout, LSTM\n",
    "from keras.layers import Flatten"
   ]
  },
  {
   "cell_type": "code",
   "execution_count": 3,
   "metadata": {
    "collapsed": true
   },
   "outputs": [],
   "source": [
    "from numpy import array\n",
    "from numpy import argmax\n",
    "from sklearn.preprocessing import LabelEncoder\n",
    "from sklearn.preprocessing import OneHotEncoder\n",
    "import numpy as np\n",
    "import pandas as pd\n",
    "from keras.utils import np_utils"
   ]
  },
  {
   "cell_type": "code",
   "execution_count": 4,
   "metadata": {
    "collapsed": true
   },
   "outputs": [],
   "source": [
    "from tensorflow.python.client import device_lib\n",
    "assert 'GPU' in str(device_lib.list_local_devices())"
   ]
  },
  {
   "cell_type": "code",
   "execution_count": 5,
   "metadata": {
    "collapsed": true
   },
   "outputs": [],
   "source": [
    "from keras import backend\n",
    "assert len(backend.tensorflow_backend._get_available_gpus()) > 0"
   ]
  },
  {
   "cell_type": "code",
   "execution_count": 6,
   "metadata": {
    "collapsed": true
   },
   "outputs": [],
   "source": [
    "df = pd.read_csv('S1_Dataset\\d1p01M.csv')"
   ]
  },
  {
   "cell_type": "code",
   "execution_count": 7,
   "metadata": {},
   "outputs": [
    {
     "name": "stdout",
     "output_type": "stream",
     "text": [
      "(400, 4)\n",
      "(400, 2, 2)\n"
     ]
    }
   ],
   "source": [
    "df = pd.DataFrame(df)\n",
    "df1 = df.drop(['1','-63.5','2.4252','924.25','1.1'], axis=1)\n",
    "#df1 = array(df1)\n",
    "x_train = df1\n",
    "print(x_train.shape)\n",
    "x_train = np.array(df1).reshape((400,2,2))\n",
    "print(x_train.shape)"
   ]
  },
  {
   "cell_type": "code",
   "execution_count": 8,
   "metadata": {
    "collapsed": true
   },
   "outputs": [],
   "source": [
    "df2 = pd.DataFrame(df)\n",
    "df2 = df2['1.1']\n",
    "y_train = array(df2)"
   ]
  },
  {
   "cell_type": "code",
   "execution_count": 9,
   "metadata": {
    "collapsed": true
   },
   "outputs": [],
   "source": [
    "encoder = LabelEncoder()\n",
    "encoder.fit(df2)\n",
    "encoded_Y = encoder.transform(df2)\n",
    "# convert integers to dummy variables (i.e. one hot encoded)\n",
    "dummy_y_train = np_utils.to_categorical(encoded_Y)"
   ]
  },
  {
   "cell_type": "code",
   "execution_count": null,
   "metadata": {
    "collapsed": true
   },
   "outputs": [],
   "source": []
  },
  {
   "cell_type": "code",
   "execution_count": 10,
   "metadata": {
    "collapsed": true
   },
   "outputs": [],
   "source": [
    "test = pd.read_csv('S1_Dataset\\d1p02M.csv')"
   ]
  },
  {
   "cell_type": "code",
   "execution_count": 11,
   "metadata": {
    "collapsed": true
   },
   "outputs": [],
   "source": [
    "x_test = pd.DataFrame(test)\n",
    "x_test = x_test.drop(['1','-58','0.17794','920.75','4'], axis=1)\n",
    "x_test = x_test[0:200]\n",
    "x_test = np.array(x_test).reshape((200,2,2))"
   ]
  },
  {
   "cell_type": "code",
   "execution_count": 12,
   "metadata": {
    "collapsed": true
   },
   "outputs": [],
   "source": [
    "y_test = pd.DataFrame(test)\n",
    "y_test = y_test['4']\n",
    "y_test = y_test[0:200]"
   ]
  },
  {
   "cell_type": "code",
   "execution_count": 13,
   "metadata": {
    "collapsed": true
   },
   "outputs": [],
   "source": [
    "encoder1 = LabelEncoder()\n",
    "encoder1.fit(y_test)\n",
    "encoded_Y1 = encoder.transform(y_test)\n",
    "# convert integers to dummy variables (i.e. one hot encoded)\n",
    "dummy_y_test = np_utils.to_categorical(encoded_Y1)"
   ]
  },
  {
   "cell_type": "code",
   "execution_count": null,
   "metadata": {
    "collapsed": true
   },
   "outputs": [],
   "source": []
  },
  {
   "cell_type": "code",
   "execution_count": 14,
   "metadata": {},
   "outputs": [],
   "source": [
    "model = Sequential()\n",
    "model.add(LSTM(24, input_shape=(x_train.shape[1:]), return_sequences=True, implementation=2))\n",
    "\n",
    "model.add(Flatten())\n",
    "\n",
    "model.add(Dense(4, activation='softmax'))\n",
    "model.compile(loss='categorical_crossentropy', optimizer='adam',metrics=['accuracy'])"
   ]
  },
  {
   "cell_type": "code",
   "execution_count": 15,
   "metadata": {},
   "outputs": [
    {
     "name": "stdout",
     "output_type": "stream",
     "text": [
      "_________________________________________________________________\n",
      "Layer (type)                 Output Shape              Param #   \n",
      "=================================================================\n",
      "lstm_1 (LSTM)                (None, 2, 24)             2592      \n",
      "_________________________________________________________________\n",
      "flatten_1 (Flatten)          (None, 48)                0         \n",
      "_________________________________________________________________\n",
      "dense_1 (Dense)              (None, 4)                 196       \n",
      "=================================================================\n",
      "Total params: 2,788\n",
      "Trainable params: 2,788\n",
      "Non-trainable params: 0\n",
      "_________________________________________________________________\n"
     ]
    }
   ],
   "source": [
    "model.summary()"
   ]
  },
  {
   "cell_type": "code",
   "execution_count": 16,
   "metadata": {},
   "outputs": [
    {
     "name": "stdout",
     "output_type": "stream",
     "text": [
      "Train on 400 samples, validate on 200 samples\n",
      "Epoch 1/200\n",
      "400/400 [==============================] - 1s 4ms/step - loss: 1.2164 - acc: 0.5600 - val_loss: 1.2944 - val_acc: 0.4050\n",
      "Epoch 2/200\n",
      "400/400 [==============================] - 0s 384us/step - loss: 1.1073 - acc: 0.6025 - val_loss: 1.3362 - val_acc: 0.4150\n",
      "Epoch 3/200\n",
      "400/400 [==============================] - 0s 362us/step - loss: 1.0455 - acc: 0.6050 - val_loss: 1.3270 - val_acc: 0.4200\n",
      "Epoch 4/200\n",
      "400/400 [==============================] - 0s 357us/step - loss: 0.9957 - acc: 0.6175 - val_loss: 1.2911 - val_acc: 0.4400\n",
      "Epoch 5/200\n",
      "400/400 [==============================] - 0s 374us/step - loss: 0.9579 - acc: 0.6350 - val_loss: 1.2699 - val_acc: 0.4650\n",
      "Epoch 6/200\n",
      "400/400 [==============================] - 0s 476us/step - loss: 0.9235 - acc: 0.6400 - val_loss: 1.2460 - val_acc: 0.4900\n",
      "Epoch 7/200\n",
      "400/400 [==============================] - 0s 401us/step - loss: 0.8882 - acc: 0.6500 - val_loss: 1.2180 - val_acc: 0.5100\n",
      "Epoch 8/200\n",
      "400/400 [==============================] - 0s 347us/step - loss: 0.8514 - acc: 0.6725 - val_loss: 1.1921 - val_acc: 0.5100\n",
      "Epoch 9/200\n",
      "400/400 [==============================] - 0s 364us/step - loss: 0.8165 - acc: 0.6850 - val_loss: 1.1726 - val_acc: 0.5100\n",
      "Epoch 10/200\n",
      "400/400 [==============================] - 0s 367us/step - loss: 0.7871 - acc: 0.6850 - val_loss: 1.1651 - val_acc: 0.5100\n",
      "Epoch 11/200\n",
      "400/400 [==============================] - 0s 446us/step - loss: 0.7555 - acc: 0.6850 - val_loss: 1.1421 - val_acc: 0.5050\n",
      "Epoch 12/200\n",
      "400/400 [==============================] - 0s 499us/step - loss: 0.7284 - acc: 0.6850 - val_loss: 1.1192 - val_acc: 0.5050\n",
      "Epoch 13/200\n",
      "400/400 [==============================] - 0s 476us/step - loss: 0.7002 - acc: 0.6850 - val_loss: 1.1029 - val_acc: 0.5050\n",
      "Epoch 14/200\n",
      "400/400 [==============================] - 0s 434us/step - loss: 0.6712 - acc: 0.6850 - val_loss: 1.0749 - val_acc: 0.5000\n",
      "Epoch 15/200\n",
      "400/400 [==============================] - 0s 461us/step - loss: 0.6434 - acc: 0.6850 - val_loss: 1.0591 - val_acc: 0.5050\n",
      "Epoch 16/200\n",
      "400/400 [==============================] - 0s 471us/step - loss: 0.6098 - acc: 0.7100 - val_loss: 1.0211 - val_acc: 0.6200\n",
      "Epoch 17/200\n",
      "400/400 [==============================] - 0s 446us/step - loss: 0.5789 - acc: 0.7900 - val_loss: 0.9966 - val_acc: 0.6750\n",
      "Epoch 18/200\n",
      "400/400 [==============================] - 0s 511us/step - loss: 0.5456 - acc: 0.8025 - val_loss: 0.9629 - val_acc: 0.7950\n",
      "Epoch 19/200\n",
      "400/400 [==============================] - 0s 441us/step - loss: 0.5152 - acc: 0.8200 - val_loss: 0.9419 - val_acc: 0.7750\n",
      "Epoch 20/200\n",
      "400/400 [==============================] - 0s 446us/step - loss: 0.4867 - acc: 0.9150 - val_loss: 0.9110 - val_acc: 0.8000\n",
      "Epoch 21/200\n",
      "400/400 [==============================] - 0s 449us/step - loss: 0.4610 - acc: 0.9250 - val_loss: 0.8907 - val_acc: 0.7850\n",
      "Epoch 22/200\n",
      "400/400 [==============================] - 0s 454us/step - loss: 0.4363 - acc: 0.9375 - val_loss: 0.8676 - val_acc: 0.8000\n",
      "Epoch 23/200\n",
      "400/400 [==============================] - 0s 765us/step - loss: 0.4146 - acc: 0.9500 - val_loss: 0.8572 - val_acc: 0.7850\n",
      "Epoch 24/200\n",
      "400/400 [==============================] - 0s 810us/step - loss: 0.3955 - acc: 0.9500 - val_loss: 0.8293 - val_acc: 0.8050\n",
      "Epoch 25/200\n",
      "400/400 [==============================] - 0s 671us/step - loss: 0.3777 - acc: 0.9450 - val_loss: 0.8233 - val_acc: 0.7700\n",
      "Epoch 26/200\n",
      "400/400 [==============================] - 0s 499us/step - loss: 0.3606 - acc: 0.9525 - val_loss: 0.8043 - val_acc: 0.7950\n",
      "Epoch 27/200\n",
      "400/400 [==============================] - 0s 486us/step - loss: 0.3451 - acc: 0.9450 - val_loss: 0.7886 - val_acc: 0.7850\n",
      "Epoch 28/200\n",
      "400/400 [==============================] - 0s 456us/step - loss: 0.3310 - acc: 0.9525 - val_loss: 0.7756 - val_acc: 0.7850\n",
      "Epoch 29/200\n",
      "400/400 [==============================] - 0s 451us/step - loss: 0.3179 - acc: 0.9500 - val_loss: 0.7643 - val_acc: 0.7950\n",
      "Epoch 30/200\n",
      "400/400 [==============================] - 0s 456us/step - loss: 0.3061 - acc: 0.9500 - val_loss: 0.7483 - val_acc: 0.8000\n",
      "Epoch 31/200\n",
      "400/400 [==============================] - 0s 439us/step - loss: 0.2973 - acc: 0.9450 - val_loss: 0.7502 - val_acc: 0.7750\n",
      "Epoch 32/200\n",
      "400/400 [==============================] - 0s 511us/step - loss: 0.2870 - acc: 0.9525 - val_loss: 0.7299 - val_acc: 0.8100\n",
      "Epoch 33/200\n",
      "400/400 [==============================] - 0s 461us/step - loss: 0.2782 - acc: 0.9525 - val_loss: 0.7400 - val_acc: 0.7750\n",
      "Epoch 34/200\n",
      "400/400 [==============================] - 0s 454us/step - loss: 0.2729 - acc: 0.9525 - val_loss: 0.7308 - val_acc: 0.7800\n",
      "Epoch 35/200\n",
      "400/400 [==============================] - 0s 439us/step - loss: 0.2653 - acc: 0.9525 - val_loss: 0.7193 - val_acc: 0.7850\n",
      "Epoch 36/200\n",
      "400/400 [==============================] - 0s 431us/step - loss: 0.2581 - acc: 0.9525 - val_loss: 0.7108 - val_acc: 0.7900\n",
      "Epoch 37/200\n",
      "400/400 [==============================] - 0s 479us/step - loss: 0.2533 - acc: 0.9525 - val_loss: 0.7010 - val_acc: 0.7950\n",
      "Epoch 38/200\n",
      "400/400 [==============================] - 0s 454us/step - loss: 0.2496 - acc: 0.9450 - val_loss: 0.7075 - val_acc: 0.7750\n",
      "Epoch 39/200\n",
      "400/400 [==============================] - 0s 446us/step - loss: 0.2441 - acc: 0.9500 - val_loss: 0.6789 - val_acc: 0.8050\n",
      "Epoch 40/200\n",
      "400/400 [==============================] - 0s 486us/step - loss: 0.2415 - acc: 0.9525 - val_loss: 0.6827 - val_acc: 0.8000\n",
      "Epoch 41/200\n",
      "400/400 [==============================] - 0s 449us/step - loss: 0.2345 - acc: 0.9475 - val_loss: 0.7030 - val_acc: 0.7650\n",
      "Epoch 42/200\n",
      "400/400 [==============================] - 0s 459us/step - loss: 0.2312 - acc: 0.9500 - val_loss: 0.6759 - val_acc: 0.8050\n",
      "Epoch 43/200\n",
      "400/400 [==============================] - 0s 514us/step - loss: 0.2250 - acc: 0.9525 - val_loss: 0.6807 - val_acc: 0.7750\n",
      "Epoch 44/200\n",
      "400/400 [==============================] - 0s 529us/step - loss: 0.2225 - acc: 0.9525 - val_loss: 0.6521 - val_acc: 0.8000\n",
      "Epoch 45/200\n",
      "400/400 [==============================] - 0s 481us/step - loss: 0.2200 - acc: 0.9475 - val_loss: 0.6759 - val_acc: 0.7700\n",
      "Epoch 46/200\n",
      "400/400 [==============================] - 0s 446us/step - loss: 0.2175 - acc: 0.9475 - val_loss: 0.6651 - val_acc: 0.7750\n",
      "Epoch 47/200\n",
      "400/400 [==============================] - 0s 491us/step - loss: 0.2144 - acc: 0.9525 - val_loss: 0.6588 - val_acc: 0.7850\n",
      "Epoch 48/200\n",
      "400/400 [==============================] - 0s 549us/step - loss: 0.2106 - acc: 0.9525 - val_loss: 0.6670 - val_acc: 0.7750\n",
      "Epoch 49/200\n",
      "400/400 [==============================] - 0s 459us/step - loss: 0.2083 - acc: 0.9525 - val_loss: 0.6466 - val_acc: 0.7950\n",
      "Epoch 50/200\n",
      "400/400 [==============================] - 0s 461us/step - loss: 0.2039 - acc: 0.9525 - val_loss: 0.6499 - val_acc: 0.7850\n",
      "Epoch 51/200\n",
      "400/400 [==============================] - 0s 471us/step - loss: 0.2029 - acc: 0.9550 - val_loss: 0.6566 - val_acc: 0.7650\n",
      "Epoch 52/200\n",
      "400/400 [==============================] - 0s 464us/step - loss: 0.1997 - acc: 0.9525 - val_loss: 0.6262 - val_acc: 0.7950\n",
      "Epoch 53/200\n",
      "400/400 [==============================] - 0s 519us/step - loss: 0.1955 - acc: 0.9550 - val_loss: 0.6826 - val_acc: 0.6850\n",
      "Epoch 54/200\n",
      "400/400 [==============================] - 0s 479us/step - loss: 0.2004 - acc: 0.9575 - val_loss: 0.6292 - val_acc: 0.7800\n",
      "Epoch 55/200\n",
      "400/400 [==============================] - 0s 446us/step - loss: 0.1893 - acc: 0.9575 - val_loss: 0.6683 - val_acc: 0.7050\n",
      "Epoch 56/200\n",
      "400/400 [==============================] - 0s 431us/step - loss: 0.1876 - acc: 0.9675 - val_loss: 0.6376 - val_acc: 0.7700\n",
      "Epoch 57/200\n",
      "400/400 [==============================] - 0s 441us/step - loss: 0.1814 - acc: 0.9675 - val_loss: 0.6622 - val_acc: 0.7450\n",
      "Epoch 58/200\n",
      "400/400 [==============================] - 0s 479us/step - loss: 0.1884 - acc: 0.9550 - val_loss: 0.6090 - val_acc: 0.8000\n",
      "Epoch 59/200\n",
      "400/400 [==============================] - 0s 474us/step - loss: 0.1822 - acc: 0.9650 - val_loss: 0.6418 - val_acc: 0.7550\n",
      "Epoch 60/200\n",
      "400/400 [==============================] - 0s 469us/step - loss: 0.1754 - acc: 0.9650 - val_loss: 0.6372 - val_acc: 0.7300\n"
     ]
    },
    {
     "name": "stdout",
     "output_type": "stream",
     "text": [
      "Epoch 61/200\n",
      "400/400 [==============================] - 0s 449us/step - loss: 0.1710 - acc: 0.9675 - val_loss: 0.6644 - val_acc: 0.7400\n",
      "Epoch 62/200\n",
      "400/400 [==============================] - 0s 421us/step - loss: 0.1710 - acc: 0.9550 - val_loss: 0.7141 - val_acc: 0.6850\n",
      "Epoch 63/200\n",
      "400/400 [==============================] - 0s 486us/step - loss: 0.1770 - acc: 0.9625 - val_loss: 0.6668 - val_acc: 0.7350\n",
      "Epoch 64/200\n",
      "400/400 [==============================] - 0s 509us/step - loss: 0.1762 - acc: 0.9675 - val_loss: 0.6351 - val_acc: 0.7400\n",
      "Epoch 65/200\n",
      "400/400 [==============================] - 0s 434us/step - loss: 0.1750 - acc: 0.9575 - val_loss: 0.5991 - val_acc: 0.8000\n",
      "Epoch 66/200\n",
      "400/400 [==============================] - 0s 469us/step - loss: 0.1584 - acc: 0.9675 - val_loss: 0.7008 - val_acc: 0.6000\n",
      "Epoch 67/200\n",
      "400/400 [==============================] - 0s 439us/step - loss: 0.1547 - acc: 0.9675 - val_loss: 0.6498 - val_acc: 0.6600\n",
      "Epoch 68/200\n",
      "400/400 [==============================] - 0s 426us/step - loss: 0.1556 - acc: 0.9675 - val_loss: 0.6823 - val_acc: 0.6000\n",
      "Epoch 69/200\n",
      "400/400 [==============================] - 0s 551us/step - loss: 0.1491 - acc: 0.9675 - val_loss: 0.6615 - val_acc: 0.6600\n",
      "Epoch 70/200\n",
      "400/400 [==============================] - 0s 446us/step - loss: 0.1481 - acc: 0.9675 - val_loss: 0.7102 - val_acc: 0.6850\n",
      "Epoch 71/200\n",
      "400/400 [==============================] - 0s 411us/step - loss: 0.1432 - acc: 0.9675 - val_loss: 0.6940 - val_acc: 0.6000\n",
      "Epoch 72/200\n",
      "400/400 [==============================] - 0s 461us/step - loss: 0.1430 - acc: 0.9675 - val_loss: 0.7115 - val_acc: 0.6850\n",
      "Epoch 73/200\n",
      "400/400 [==============================] - 0s 429us/step - loss: 0.1452 - acc: 0.9725 - val_loss: 0.6860 - val_acc: 0.7300\n",
      "Epoch 74/200\n",
      "400/400 [==============================] - 0s 441us/step - loss: 0.1496 - acc: 0.9650 - val_loss: 0.6917 - val_acc: 0.6150\n",
      "Epoch 75/200\n",
      "400/400 [==============================] - 0s 479us/step - loss: 0.1354 - acc: 0.9675 - val_loss: 0.7534 - val_acc: 0.6850\n",
      "Epoch 76/200\n",
      "400/400 [==============================] - 0s 446us/step - loss: 0.1459 - acc: 0.9675 - val_loss: 0.7103 - val_acc: 0.6850\n",
      "Epoch 77/200\n",
      "400/400 [==============================] - 0s 441us/step - loss: 0.1497 - acc: 0.9650 - val_loss: 0.7109 - val_acc: 0.6000\n",
      "Epoch 78/200\n",
      "400/400 [==============================] - 0s 484us/step - loss: 0.1729 - acc: 0.9525 - val_loss: 0.7275 - val_acc: 0.5850\n",
      "Epoch 79/200\n",
      "400/400 [==============================] - 0s 434us/step - loss: 0.1307 - acc: 0.9675 - val_loss: 0.6864 - val_acc: 0.6400\n",
      "Epoch 80/200\n",
      "400/400 [==============================] - 0s 673us/step - loss: 0.1253 - acc: 0.9675 - val_loss: 0.7131 - val_acc: 0.6000\n",
      "Epoch 81/200\n",
      "400/400 [==============================] - 0s 464us/step - loss: 0.1247 - acc: 0.9675 - val_loss: 0.7261 - val_acc: 0.6450\n",
      "Epoch 82/200\n",
      "400/400 [==============================] - 0s 421us/step - loss: 0.1205 - acc: 0.9675 - val_loss: 0.7202 - val_acc: 0.6000\n",
      "Epoch 83/200\n",
      "400/400 [==============================] - 0s 421us/step - loss: 0.1213 - acc: 0.9675 - val_loss: 0.7123 - val_acc: 0.6000\n",
      "Epoch 84/200\n",
      "400/400 [==============================] - 0s 419us/step - loss: 0.1184 - acc: 0.9675 - val_loss: 0.7176 - val_acc: 0.6000\n",
      "Epoch 85/200\n",
      "400/400 [==============================] - 0s 576us/step - loss: 0.1207 - acc: 0.9675 - val_loss: 0.7149 - val_acc: 0.6000\n",
      "Epoch 86/200\n",
      "400/400 [==============================] - 0s 449us/step - loss: 0.1145 - acc: 0.9675 - val_loss: 0.7499 - val_acc: 0.6250\n",
      "Epoch 87/200\n",
      "400/400 [==============================] - 0s 476us/step - loss: 0.1126 - acc: 0.9675 - val_loss: 0.7532 - val_acc: 0.5950\n",
      "Epoch 88/200\n",
      "400/400 [==============================] - 0s 479us/step - loss: 0.1155 - acc: 0.9650 - val_loss: 0.7812 - val_acc: 0.6750\n",
      "Epoch 89/200\n",
      "400/400 [==============================] - 0s 451us/step - loss: 0.1280 - acc: 0.9650 - val_loss: 0.8102 - val_acc: 0.6850\n",
      "Epoch 90/200\n",
      "400/400 [==============================] - 0s 496us/step - loss: 0.1249 - acc: 0.9650 - val_loss: 0.7619 - val_acc: 0.6800\n",
      "Epoch 91/200\n",
      "400/400 [==============================] - 0s 454us/step - loss: 0.1094 - acc: 0.9800 - val_loss: 0.7278 - val_acc: 0.5850\n",
      "Epoch 92/200\n",
      "400/400 [==============================] - 0s 504us/step - loss: 0.1084 - acc: 0.9675 - val_loss: 0.7443 - val_acc: 0.6400\n",
      "Epoch 93/200\n",
      "400/400 [==============================] - 0s 466us/step - loss: 0.1085 - acc: 0.9725 - val_loss: 0.7871 - val_acc: 0.6150\n",
      "Epoch 94/200\n",
      "400/400 [==============================] - 0s 441us/step - loss: 0.1082 - acc: 0.9675 - val_loss: 0.7675 - val_acc: 0.5950\n",
      "Epoch 95/200\n",
      "400/400 [==============================] - 0s 546us/step - loss: 0.1020 - acc: 0.9675 - val_loss: 0.7767 - val_acc: 0.5950\n",
      "Epoch 96/200\n",
      "400/400 [==============================] - 0s 496us/step - loss: 0.1020 - acc: 0.9700 - val_loss: 0.8121 - val_acc: 0.6850\n",
      "Epoch 97/200\n",
      "400/400 [==============================] - 0s 471us/step - loss: 0.1105 - acc: 0.9675 - val_loss: 0.8238 - val_acc: 0.6850\n",
      "Epoch 98/200\n",
      "400/400 [==============================] - 0s 474us/step - loss: 0.1101 - acc: 0.9725 - val_loss: 0.7986 - val_acc: 0.6450\n",
      "Epoch 99/200\n",
      "400/400 [==============================] - 0s 464us/step - loss: 0.1015 - acc: 0.9825 - val_loss: 0.7441 - val_acc: 0.5950\n",
      "Epoch 100/200\n",
      "400/400 [==============================] - 0s 583us/step - loss: 0.1179 - acc: 0.9725 - val_loss: 0.7762 - val_acc: 0.5900\n",
      "Epoch 101/200\n",
      "400/400 [==============================] - 0s 456us/step - loss: 0.1144 - acc: 0.9675 - val_loss: 0.8284 - val_acc: 0.6700\n",
      "Epoch 102/200\n",
      "400/400 [==============================] - 0s 476us/step - loss: 0.1007 - acc: 0.9700 - val_loss: 0.8191 - val_acc: 0.6850\n",
      "Epoch 103/200\n",
      "400/400 [==============================] - 0s 454us/step - loss: 0.1001 - acc: 0.9750 - val_loss: 0.8184 - val_acc: 0.6050\n",
      "Epoch 104/200\n",
      "400/400 [==============================] - 0s 424us/step - loss: 0.0917 - acc: 0.9775 - val_loss: 0.7981 - val_acc: 0.6350\n",
      "Epoch 105/200\n",
      "400/400 [==============================] - 0s 429us/step - loss: 0.0910 - acc: 0.9675 - val_loss: 0.8349 - val_acc: 0.6350\n",
      "Epoch 106/200\n",
      "400/400 [==============================] - 0s 511us/step - loss: 0.0891 - acc: 0.9725 - val_loss: 0.8443 - val_acc: 0.6350\n",
      "Epoch 107/200\n",
      "400/400 [==============================] - 0s 471us/step - loss: 0.0882 - acc: 0.9775 - val_loss: 0.8451 - val_acc: 0.6400\n",
      "Epoch 108/200\n",
      "400/400 [==============================] - 0s 466us/step - loss: 0.0910 - acc: 0.9750 - val_loss: 0.8463 - val_acc: 0.6400\n",
      "Epoch 109/200\n",
      "400/400 [==============================] - 0s 514us/step - loss: 0.0917 - acc: 0.9800 - val_loss: 0.7863 - val_acc: 0.5800\n",
      "Epoch 110/200\n",
      "400/400 [==============================] - 0s 466us/step - loss: 0.1020 - acc: 0.9700 - val_loss: 0.8600 - val_acc: 0.5950\n",
      "Epoch 111/200\n",
      "400/400 [==============================] - 0s 561us/step - loss: 0.0875 - acc: 0.9725 - val_loss: 0.8671 - val_acc: 0.6800\n",
      "Epoch 112/200\n",
      "400/400 [==============================] - 0s 426us/step - loss: 0.0844 - acc: 0.9700 - val_loss: 0.8600 - val_acc: 0.6350\n",
      "Epoch 113/200\n",
      "400/400 [==============================] - 0s 436us/step - loss: 0.0852 - acc: 0.9825 - val_loss: 0.9142 - val_acc: 0.6350\n",
      "Epoch 114/200\n",
      "400/400 [==============================] - 0s 461us/step - loss: 0.0819 - acc: 0.9825 - val_loss: 0.8627 - val_acc: 0.6450\n",
      "Epoch 115/200\n",
      "400/400 [==============================] - 0s 474us/step - loss: 0.0826 - acc: 0.9825 - val_loss: 0.9147 - val_acc: 0.6350\n",
      "Epoch 116/200\n",
      "400/400 [==============================] - 0s 511us/step - loss: 0.0812 - acc: 0.9825 - val_loss: 0.8597 - val_acc: 0.5950\n",
      "Epoch 117/200\n",
      "400/400 [==============================] - 0s 469us/step - loss: 0.0871 - acc: 0.9750 - val_loss: 0.8981 - val_acc: 0.5850\n",
      "Epoch 118/200\n",
      "400/400 [==============================] - 0s 491us/step - loss: 0.0788 - acc: 0.9800 - val_loss: 0.9271 - val_acc: 0.6700\n",
      "Epoch 119/200\n",
      "400/400 [==============================] - 0s 469us/step - loss: 0.0789 - acc: 0.9825 - val_loss: 0.9062 - val_acc: 0.6350\n",
      "Epoch 120/200\n",
      "400/400 [==============================] - 0s 476us/step - loss: 0.0787 - acc: 0.9825 - val_loss: 0.9564 - val_acc: 0.6700\n",
      "Epoch 121/200\n"
     ]
    },
    {
     "name": "stdout",
     "output_type": "stream",
     "text": [
      "400/400 [==============================] - 0s 476us/step - loss: 0.0837 - acc: 0.9775 - val_loss: 0.9900 - val_acc: 0.6850\n",
      "Epoch 122/200\n",
      "400/400 [==============================] - 0s 489us/step - loss: 0.0807 - acc: 0.9800 - val_loss: 0.8503 - val_acc: 0.5850\n",
      "Epoch 123/200\n",
      "400/400 [==============================] - 0s 431us/step - loss: 0.0793 - acc: 0.9800 - val_loss: 0.9611 - val_acc: 0.6350\n",
      "Epoch 124/200\n",
      "400/400 [==============================] - 0s 401us/step - loss: 0.0760 - acc: 0.9825 - val_loss: 0.9420 - val_acc: 0.6100\n",
      "Epoch 125/200\n",
      "400/400 [==============================] - 0s 414us/step - loss: 0.0770 - acc: 0.9775 - val_loss: 0.8986 - val_acc: 0.6400\n",
      "Epoch 126/200\n",
      "400/400 [==============================] - 0s 511us/step - loss: 0.0770 - acc: 0.9825 - val_loss: 0.9538 - val_acc: 0.6050\n",
      "Epoch 127/200\n",
      "400/400 [==============================] - 0s 474us/step - loss: 0.0748 - acc: 0.9825 - val_loss: 0.9418 - val_acc: 0.6350\n",
      "Epoch 128/200\n",
      "400/400 [==============================] - 0s 434us/step - loss: 0.0735 - acc: 0.9825 - val_loss: 0.9500 - val_acc: 0.6350\n",
      "Epoch 129/200\n",
      "400/400 [==============================] - 0s 411us/step - loss: 0.0724 - acc: 0.9825 - val_loss: 0.9528 - val_acc: 0.6350\n",
      "Epoch 130/200\n",
      "400/400 [==============================] - 0s 444us/step - loss: 0.0721 - acc: 0.9825 - val_loss: 0.9869 - val_acc: 0.6400\n",
      "Epoch 131/200\n",
      "400/400 [==============================] - 0s 491us/step - loss: 0.0722 - acc: 0.9800 - val_loss: 0.9805 - val_acc: 0.6750\n",
      "Epoch 132/200\n",
      "400/400 [==============================] - 0s 583us/step - loss: 0.0714 - acc: 0.9825 - val_loss: 0.9781 - val_acc: 0.6350\n",
      "Epoch 133/200\n",
      "400/400 [==============================] - 0s 459us/step - loss: 0.0704 - acc: 0.9825 - val_loss: 0.9905 - val_acc: 0.6600\n",
      "Epoch 134/200\n",
      "400/400 [==============================] - 0s 424us/step - loss: 0.0687 - acc: 0.9825 - val_loss: 1.0150 - val_acc: 0.6300\n",
      "Epoch 135/200\n",
      "400/400 [==============================] - 0s 404us/step - loss: 0.0739 - acc: 0.9725 - val_loss: 0.9845 - val_acc: 0.6350\n",
      "Epoch 136/200\n",
      "400/400 [==============================] - 0s 416us/step - loss: 0.0710 - acc: 0.9825 - val_loss: 1.0043 - val_acc: 0.6650\n",
      "Epoch 137/200\n",
      "400/400 [==============================] - 0s 491us/step - loss: 0.0676 - acc: 0.9825 - val_loss: 0.9869 - val_acc: 0.6350\n",
      "Epoch 138/200\n",
      "400/400 [==============================] - 0s 486us/step - loss: 0.0672 - acc: 0.9825 - val_loss: 0.9850 - val_acc: 0.6150\n",
      "Epoch 139/200\n",
      "400/400 [==============================] - 0s 471us/step - loss: 0.0658 - acc: 0.9825 - val_loss: 1.0575 - val_acc: 0.6850\n",
      "Epoch 140/200\n",
      "400/400 [==============================] - 0s 474us/step - loss: 0.0706 - acc: 0.9825 - val_loss: 1.0302 - val_acc: 0.6400\n",
      "Epoch 141/200\n",
      "400/400 [==============================] - 0s 459us/step - loss: 0.0668 - acc: 0.9825 - val_loss: 1.0231 - val_acc: 0.6350\n",
      "Epoch 142/200\n",
      "400/400 [==============================] - 0s 489us/step - loss: 0.0655 - acc: 0.9825 - val_loss: 1.0693 - val_acc: 0.6450\n",
      "Epoch 143/200\n",
      "400/400 [==============================] - 0s 536us/step - loss: 0.0665 - acc: 0.9825 - val_loss: 0.9768 - val_acc: 0.6300\n",
      "Epoch 144/200\n",
      "400/400 [==============================] - 0s 461us/step - loss: 0.0663 - acc: 0.9775 - val_loss: 1.0594 - val_acc: 0.6650\n",
      "Epoch 145/200\n",
      "400/400 [==============================] - 0s 434us/step - loss: 0.0706 - acc: 0.9825 - val_loss: 1.0451 - val_acc: 0.6650\n",
      "Epoch 146/200\n",
      "400/400 [==============================] - 0s 426us/step - loss: 0.0656 - acc: 0.9825 - val_loss: 1.0263 - val_acc: 0.6450\n",
      "Epoch 147/200\n",
      "400/400 [==============================] - 0s 429us/step - loss: 0.0659 - acc: 0.9825 - val_loss: 1.0431 - val_acc: 0.6350\n",
      "Epoch 148/200\n",
      "400/400 [==============================] - 0s 499us/step - loss: 0.0686 - acc: 0.9800 - val_loss: 1.1025 - val_acc: 0.6850\n",
      "Epoch 149/200\n",
      "400/400 [==============================] - 0s 489us/step - loss: 0.0662 - acc: 0.9825 - val_loss: 1.0719 - val_acc: 0.6350\n",
      "Epoch 150/200\n",
      "400/400 [==============================] - 0s 481us/step - loss: 0.0645 - acc: 0.9825 - val_loss: 1.0346 - val_acc: 0.6000\n",
      "Epoch 151/200\n",
      "400/400 [==============================] - 0s 451us/step - loss: 0.0641 - acc: 0.9825 - val_loss: 0.9930 - val_acc: 0.6350\n",
      "Epoch 152/200\n",
      "400/400 [==============================] - 0s 444us/step - loss: 0.0670 - acc: 0.9825 - val_loss: 1.0652 - val_acc: 0.5850\n",
      "Epoch 153/200\n",
      "400/400 [==============================] - 0s 489us/step - loss: 0.0704 - acc: 0.9800 - val_loss: 1.0478 - val_acc: 0.6800\n",
      "Epoch 154/200\n",
      "400/400 [==============================] - 0s 506us/step - loss: 0.0924 - acc: 0.9750 - val_loss: 1.1677 - val_acc: 0.6850\n",
      "Epoch 155/200\n",
      "400/400 [==============================] - 0s 479us/step - loss: 0.0882 - acc: 0.9700 - val_loss: 1.1355 - val_acc: 0.6850\n",
      "Epoch 156/200\n",
      "400/400 [==============================] - 0s 486us/step - loss: 0.0815 - acc: 0.9750 - val_loss: 1.1023 - val_acc: 0.6800\n",
      "Epoch 157/200\n",
      "400/400 [==============================] - 0s 461us/step - loss: 0.0707 - acc: 0.9775 - val_loss: 0.9280 - val_acc: 0.5900\n",
      "Epoch 158/200\n",
      "400/400 [==============================] - 0s 459us/step - loss: 0.0799 - acc: 0.9750 - val_loss: 0.6818 - val_acc: 0.6000\n",
      "Epoch 159/200\n",
      "400/400 [==============================] - 0s 469us/step - loss: 0.0670 - acc: 0.9775 - val_loss: 1.0603 - val_acc: 0.6600\n",
      "Epoch 160/200\n",
      "400/400 [==============================] - 0s 431us/step - loss: 0.0637 - acc: 0.9825 - val_loss: 1.0726 - val_acc: 0.6350\n",
      "Epoch 161/200\n",
      "400/400 [==============================] - 0s 436us/step - loss: 0.0622 - acc: 0.9825 - val_loss: 1.0822 - val_acc: 0.6050\n",
      "Epoch 162/200\n",
      "400/400 [==============================] - 0s 421us/step - loss: 0.0630 - acc: 0.9825 - val_loss: 1.0895 - val_acc: 0.6350\n",
      "Epoch 163/200\n",
      "400/400 [==============================] - 0s 446us/step - loss: 0.0740 - acc: 0.9750 - val_loss: 1.1313 - val_acc: 0.6850\n",
      "Epoch 164/200\n",
      "400/400 [==============================] - 0s 479us/step - loss: 0.0657 - acc: 0.9825 - val_loss: 1.0927 - val_acc: 0.6350\n",
      "Epoch 165/200\n",
      "400/400 [==============================] - 0s 471us/step - loss: 0.0643 - acc: 0.9825 - val_loss: 1.0885 - val_acc: 0.6350\n",
      "Epoch 166/200\n",
      "400/400 [==============================] - 0s 446us/step - loss: 0.0583 - acc: 0.9825 - val_loss: 1.1118 - val_acc: 0.6650\n",
      "Epoch 167/200\n",
      "400/400 [==============================] - 0s 461us/step - loss: 0.0591 - acc: 0.9825 - val_loss: 1.0861 - val_acc: 0.6350\n",
      "Epoch 168/200\n",
      "400/400 [==============================] - 0s 424us/step - loss: 0.0580 - acc: 0.9825 - val_loss: 1.1265 - val_acc: 0.6350\n",
      "Epoch 169/200\n",
      "400/400 [==============================] - 0s 461us/step - loss: 0.0597 - acc: 0.9825 - val_loss: 1.1081 - val_acc: 0.6350\n",
      "Epoch 170/200\n",
      "400/400 [==============================] - 0s 491us/step - loss: 0.0575 - acc: 0.9825 - val_loss: 1.1022 - val_acc: 0.6350\n",
      "Epoch 171/200\n",
      "400/400 [==============================] - 0s 449us/step - loss: 0.0584 - acc: 0.9825 - val_loss: 1.1393 - val_acc: 0.6650\n",
      "Epoch 172/200\n",
      "400/400 [==============================] - 0s 414us/step - loss: 0.0575 - acc: 0.9825 - val_loss: 1.1446 - val_acc: 0.6350\n",
      "Epoch 173/200\n",
      "400/400 [==============================] - 0s 424us/step - loss: 0.0562 - acc: 0.9825 - val_loss: 1.1582 - val_acc: 0.6550\n",
      "Epoch 174/200\n",
      "400/400 [==============================] - 0s 446us/step - loss: 0.0574 - acc: 0.9825 - val_loss: 1.1342 - val_acc: 0.6350\n",
      "Epoch 175/200\n",
      "400/400 [==============================] - 0s 514us/step - loss: 0.0569 - acc: 0.9825 - val_loss: 1.1744 - val_acc: 0.6650\n",
      "Epoch 176/200\n",
      "400/400 [==============================] - 0s 469us/step - loss: 0.0556 - acc: 0.9825 - val_loss: 1.1603 - val_acc: 0.6350\n",
      "Epoch 177/200\n",
      "400/400 [==============================] - 0s 469us/step - loss: 0.0561 - acc: 0.9825 - val_loss: 1.1709 - val_acc: 0.6200\n",
      "Epoch 178/200\n",
      "400/400 [==============================] - 0s 459us/step - loss: 0.0583 - acc: 0.9825 - val_loss: 1.1617 - val_acc: 0.6250\n",
      "Epoch 179/200\n",
      "400/400 [==============================] - 0s 454us/step - loss: 0.0575 - acc: 0.9825 - val_loss: 1.1692 - val_acc: 0.6300\n",
      "Epoch 180/200\n",
      "400/400 [==============================] - 0s 516us/step - loss: 0.0588 - acc: 0.9825 - val_loss: 1.2379 - val_acc: 0.6850\n"
     ]
    },
    {
     "name": "stdout",
     "output_type": "stream",
     "text": [
      "Epoch 181/200\n",
      "400/400 [==============================] - 0s 429us/step - loss: 0.0577 - acc: 0.9800 - val_loss: 1.1529 - val_acc: 0.6350\n",
      "Epoch 182/200\n",
      "400/400 [==============================] - 0s 394us/step - loss: 0.0543 - acc: 0.9825 - val_loss: 1.1844 - val_acc: 0.6350\n",
      "Epoch 183/200\n",
      "400/400 [==============================] - 0s 404us/step - loss: 0.0559 - acc: 0.9825 - val_loss: 1.1605 - val_acc: 0.6350\n",
      "Epoch 184/200\n",
      "400/400 [==============================] - 0s 406us/step - loss: 0.0549 - acc: 0.9825 - val_loss: 1.2244 - val_acc: 0.6650\n",
      "Epoch 185/200\n",
      "400/400 [==============================] - 0s 409us/step - loss: 0.0542 - acc: 0.9825 - val_loss: 1.1995 - val_acc: 0.6350\n",
      "Epoch 186/200\n",
      "400/400 [==============================] - 0s 484us/step - loss: 0.0539 - acc: 0.9825 - val_loss: 1.2351 - val_acc: 0.6650\n",
      "Epoch 187/200\n",
      "400/400 [==============================] - 0s 451us/step - loss: 0.0570 - acc: 0.9825 - val_loss: 1.1898 - val_acc: 0.6300\n",
      "Epoch 188/200\n",
      "400/400 [==============================] - 0s 431us/step - loss: 0.0556 - acc: 0.9825 - val_loss: 1.2190 - val_acc: 0.6200\n",
      "Epoch 189/200\n",
      "400/400 [==============================] - 0s 439us/step - loss: 0.0629 - acc: 0.9825 - val_loss: 1.2230 - val_acc: 0.6350\n",
      "Epoch 190/200\n",
      "400/400 [==============================] - 0s 444us/step - loss: 0.0581 - acc: 0.9825 - val_loss: 1.2862 - val_acc: 0.6650\n",
      "Epoch 191/200\n",
      "400/400 [==============================] - 0s 411us/step - loss: 0.0528 - acc: 0.9825 - val_loss: 1.2316 - val_acc: 0.6650\n",
      "Epoch 192/200\n",
      "400/400 [==============================] - 0s 476us/step - loss: 0.0537 - acc: 0.9825 - val_loss: 1.2060 - val_acc: 0.6500\n",
      "Epoch 193/200\n",
      "400/400 [==============================] - 0s 436us/step - loss: 0.0535 - acc: 0.9825 - val_loss: 1.1459 - val_acc: 0.5750\n",
      "Epoch 194/200\n",
      "400/400 [==============================] - 0s 411us/step - loss: 0.0588 - acc: 0.9800 - val_loss: 1.3253 - val_acc: 0.6850\n",
      "Epoch 195/200\n",
      "400/400 [==============================] - 0s 409us/step - loss: 0.0588 - acc: 0.9825 - val_loss: 1.2178 - val_acc: 0.6650\n",
      "Epoch 196/200\n",
      "400/400 [==============================] - 0s 416us/step - loss: 0.0536 - acc: 0.9825 - val_loss: 1.1536 - val_acc: 0.6350\n",
      "Epoch 197/200\n",
      "400/400 [==============================] - 0s 449us/step - loss: 0.0642 - acc: 0.9750 - val_loss: 1.3442 - val_acc: 0.6650\n",
      "Epoch 198/200\n",
      "400/400 [==============================] - 0s 466us/step - loss: 0.0520 - acc: 0.9825 - val_loss: 1.1818 - val_acc: 0.6000\n",
      "Epoch 199/200\n",
      "400/400 [==============================] - 0s 459us/step - loss: 0.0580 - acc: 0.9825 - val_loss: 1.2025 - val_acc: 0.6300\n",
      "Epoch 200/200\n",
      "400/400 [==============================] - 0s 429us/step - loss: 0.0633 - acc: 0.9775 - val_loss: 1.3214 - val_acc: 0.6850\n"
     ]
    },
    {
     "data": {
      "text/plain": [
       "<keras.callbacks.History at 0x2137fa85e48>"
      ]
     },
     "execution_count": 16,
     "metadata": {},
     "output_type": "execute_result"
    }
   ],
   "source": [
    "model.fit(x_train, dummy_y_train, epochs=200, validation_data=(x_test, dummy_y_test))"
   ]
  },
  {
   "cell_type": "code",
   "execution_count": null,
   "metadata": {
    "collapsed": true
   },
   "outputs": [],
   "source": []
  },
  {
   "cell_type": "code",
   "execution_count": 39,
   "metadata": {},
   "outputs": [
    {
     "data": {
      "text/plain": [
       "(4,)"
      ]
     },
     "execution_count": 39,
     "metadata": {},
     "output_type": "execute_result"
    }
   ],
   "source": [
    "test = [139,0.89,0.62,-0.09]\n",
    "np.shape(test)"
   ]
  },
  {
   "cell_type": "code",
   "execution_count": 40,
   "metadata": {
    "collapsed": true
   },
   "outputs": [],
   "source": [
    "test = np.array(test).reshape((1,2,2))"
   ]
  },
  {
   "cell_type": "code",
   "execution_count": 41,
   "metadata": {
    "collapsed": true
   },
   "outputs": [],
   "source": [
    "predict = model.predict(test)"
   ]
  },
  {
   "cell_type": "code",
   "execution_count": 42,
   "metadata": {
    "collapsed": true
   },
   "outputs": [],
   "source": [
    "def sigmoid_array(x):\n",
    "    return 1 / (1 + np.exp(-x))"
   ]
  },
  {
   "cell_type": "code",
   "execution_count": 43,
   "metadata": {},
   "outputs": [
    {
     "name": "stdout",
     "output_type": "stream",
     "text": [
      "Sitting on chair\n"
     ]
    }
   ],
   "source": [
    "result = np.argmax(sigmoid_array(predict))+1\n",
    "if(result==1):\n",
    "    print(\"Sitting on bed\")\n",
    "elif(result==2):\n",
    "    print(\"Sitting on chair\")\n",
    "elif(result==3):\n",
    "    print(\"Lying\")\n",
    "elif(result==4):\n",
    "    print(\"Ambulating\")"
   ]
  }
 ],
 "metadata": {
  "kernelspec": {
   "display_name": "Python 3",
   "language": "python",
   "name": "python3"
  },
  "language_info": {
   "codemirror_mode": {
    "name": "ipython",
    "version": 3
   },
   "file_extension": ".py",
   "mimetype": "text/x-python",
   "name": "python",
   "nbconvert_exporter": "python",
   "pygments_lexer": "ipython3",
   "version": "3.6.3"
  }
 },
 "nbformat": 4,
 "nbformat_minor": 2
}
